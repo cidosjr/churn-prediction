{
 "cells": [
  {
   "cell_type": "markdown",
   "id": "5872e376",
   "metadata": {},
   "source": [
    "## Contexto"
   ]
  },
  {
   "cell_type": "markdown",
   "id": "95f7926c",
   "metadata": {
    "ExecuteTime": {
     "end_time": "2021-09-20T23:37:36.308738Z",
     "start_time": "2021-09-20T23:37:36.298415Z"
    }
   },
   "source": [
    "## Input\n",
    "1. Problema de Negocio.\n"
   ]
  },
  {
   "cell_type": "code",
   "execution_count": null,
   "id": "bdadb6e8",
   "metadata": {},
   "outputs": [],
   "source": []
  }
 ],
 "metadata": {
  "kernelspec": {
   "display_name": "Python 3 (ipykernel)",
   "language": "python",
   "name": "python3"
  },
  "language_info": {
   "codemirror_mode": {
    "name": "ipython",
    "version": 3
   },
   "file_extension": ".py",
   "mimetype": "text/x-python",
   "name": "python",
   "nbconvert_exporter": "python",
   "pygments_lexer": "ipython3",
   "version": "3.8.0"
  }
 },
 "nbformat": 4,
 "nbformat_minor": 5
}
