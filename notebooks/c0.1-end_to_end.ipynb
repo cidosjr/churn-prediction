{
 "cells": [
  {
   "cell_type": "markdown",
   "id": "2e625e68",
   "metadata": {},
   "source": [
    "# 0.0. Imports "
   ]
  },
  {
   "cell_type": "code",
   "execution_count": 67,
   "id": "e4962aab",
   "metadata": {
    "ExecuteTime": {
     "end_time": "2021-09-20T20:35:34.674609Z",
     "start_time": "2021-09-20T20:35:34.667989Z"
    }
   },
   "outputs": [],
   "source": [
    "import pandas as pd\n",
    "\n",
    "from sklearn import preprocessing as pp\n",
    "from sklearn import model_selection as ms\n",
    "from sklearn import dummy\n",
    "from sklearn import metrics\n",
    "from sklearn import neighbors\n",
    "from sklearn import svm\n",
    "from sklearn import ensemble\n",
    "from sklearn import linear_model"
   ]
  },
  {
   "cell_type": "markdown",
   "id": "604d9b4b",
   "metadata": {},
   "source": [
    "## 0.1. Helper Functions"
   ]
  },
  {
   "cell_type": "markdown",
   "id": "78f7dfd3",
   "metadata": {},
   "source": [
    "## 0.2. Load Data"
   ]
  },
  {
   "cell_type": "code",
   "execution_count": 2,
   "id": "8a1a8c9e",
   "metadata": {
    "ExecuteTime": {
     "end_time": "2021-09-20T20:05:27.242399Z",
     "start_time": "2021-09-20T20:05:27.206174Z"
    }
   },
   "outputs": [],
   "source": [
    "df_raw = pd.read_csv( '../data/raw/churn.csv' )"
   ]
  },
  {
   "cell_type": "markdown",
   "id": "28906caa",
   "metadata": {},
   "source": [
    "# 1.0. Data Description"
   ]
  },
  {
   "cell_type": "code",
   "execution_count": 3,
   "id": "cc447966",
   "metadata": {
    "ExecuteTime": {
     "end_time": "2021-09-20T20:05:28.902156Z",
     "start_time": "2021-09-20T20:05:28.898785Z"
    }
   },
   "outputs": [],
   "source": [
    "df1 = df_raw.copy()"
   ]
  },
  {
   "cell_type": "markdown",
   "id": "131d2137",
   "metadata": {
    "heading_collapsed": true
   },
   "source": [
    "## 1.1. Rename Columns"
   ]
  },
  {
   "cell_type": "code",
   "execution_count": 4,
   "id": "381d390a",
   "metadata": {
    "ExecuteTime": {
     "end_time": "2021-09-20T20:05:29.466712Z",
     "start_time": "2021-09-20T20:05:29.462218Z"
    },
    "hidden": true
   },
   "outputs": [],
   "source": [
    "df1.columns = ['row_number', 'customer_id', 'surname', 'credit_score', 'geography', 'gender', 'age', 'tenure', 'balance', 'num_of_products', 'has_cr_card','is_active_member', 'estimated_salary', 'exited']"
   ]
  },
  {
   "cell_type": "markdown",
   "id": "b86f2d1f",
   "metadata": {
    "heading_collapsed": true
   },
   "source": [
    "## 1.2. Data Dimensions"
   ]
  },
  {
   "cell_type": "code",
   "execution_count": 25,
   "id": "209a0f67",
   "metadata": {
    "ExecuteTime": {
     "end_time": "2021-09-20T20:10:58.495073Z",
     "start_time": "2021-09-20T20:10:58.488997Z"
    },
    "hidden": true
   },
   "outputs": [
    {
     "data": {
      "text/plain": [
       "(10000, 14)"
      ]
     },
     "execution_count": 25,
     "metadata": {},
     "output_type": "execute_result"
    }
   ],
   "source": [
    "df1.shape"
   ]
  },
  {
   "cell_type": "markdown",
   "id": "5dd3a1f4",
   "metadata": {
    "heading_collapsed": true
   },
   "source": [
    "## 1.3. Check NA"
   ]
  },
  {
   "cell_type": "code",
   "execution_count": 26,
   "id": "6b5460ef",
   "metadata": {
    "ExecuteTime": {
     "end_time": "2021-09-20T20:11:14.898016Z",
     "start_time": "2021-09-20T20:11:14.880906Z"
    },
    "hidden": true
   },
   "outputs": [
    {
     "data": {
      "text/plain": [
       "row_number          0\n",
       "customer_id         0\n",
       "surname             0\n",
       "credit_score        0\n",
       "geography           0\n",
       "gender              0\n",
       "age                 0\n",
       "tenure              0\n",
       "balance             0\n",
       "num_of_products     0\n",
       "has_cr_card         0\n",
       "is_active_member    0\n",
       "estimated_salary    0\n",
       "exited              0\n",
       "dtype: int64"
      ]
     },
     "execution_count": 26,
     "metadata": {},
     "output_type": "execute_result"
    }
   ],
   "source": [
    "df1.isna().sum()"
   ]
  },
  {
   "cell_type": "markdown",
   "id": "60f742bb",
   "metadata": {},
   "source": [
    "# 2.0. Feature Engineering"
   ]
  },
  {
   "cell_type": "code",
   "execution_count": 5,
   "id": "498b4fc0",
   "metadata": {
    "ExecuteTime": {
     "end_time": "2021-09-20T20:05:43.437759Z",
     "start_time": "2021-09-20T20:05:43.431756Z"
    }
   },
   "outputs": [],
   "source": [
    "df2 = df1.copy()"
   ]
  },
  {
   "cell_type": "markdown",
   "id": "c0463d2c",
   "metadata": {
    "ExecuteTime": {
     "end_time": "2021-09-19T21:20:25.629615Z",
     "start_time": "2021-09-19T21:20:25.625286Z"
    },
    "heading_collapsed": true
   },
   "source": [
    "# 3.0. Data Filtering"
   ]
  },
  {
   "cell_type": "code",
   "execution_count": 8,
   "id": "df16a2cc",
   "metadata": {
    "ExecuteTime": {
     "end_time": "2021-09-20T20:06:51.289222Z",
     "start_time": "2021-09-20T20:06:51.278819Z"
    },
    "hidden": true
   },
   "outputs": [],
   "source": [
    "df3 = df2.copy()"
   ]
  },
  {
   "cell_type": "code",
   "execution_count": 9,
   "id": "c11d1832",
   "metadata": {
    "ExecuteTime": {
     "end_time": "2021-09-20T20:06:51.474294Z",
     "start_time": "2021-09-20T20:06:51.461283Z"
    },
    "hidden": true
   },
   "outputs": [],
   "source": [
    "drop_cols = ['row_number', 'customer_id', 'surname']\n",
    "df3 = df3.drop(drop_cols, axis=1)"
   ]
  },
  {
   "cell_type": "markdown",
   "id": "717d861b",
   "metadata": {
    "ExecuteTime": {
     "end_time": "2021-09-19T21:20:25.629615Z",
     "start_time": "2021-09-19T21:20:25.625286Z"
    },
    "heading_collapsed": true
   },
   "source": [
    "# 4.0. EDA"
   ]
  },
  {
   "cell_type": "code",
   "execution_count": 10,
   "id": "ef970a0b",
   "metadata": {
    "ExecuteTime": {
     "end_time": "2021-09-20T20:06:58.509524Z",
     "start_time": "2021-09-20T20:06:58.504121Z"
    },
    "hidden": true
   },
   "outputs": [],
   "source": [
    "df4 = df3.copy()"
   ]
  },
  {
   "cell_type": "markdown",
   "id": "ff13e1d4",
   "metadata": {
    "ExecuteTime": {
     "end_time": "2021-09-19T21:20:25.629615Z",
     "start_time": "2021-09-19T21:20:25.625286Z"
    }
   },
   "source": [
    "# 5.0. Data Preprocessing"
   ]
  },
  {
   "cell_type": "code",
   "execution_count": 19,
   "id": "1eb4645e",
   "metadata": {
    "ExecuteTime": {
     "end_time": "2021-09-20T20:08:56.143447Z",
     "start_time": "2021-09-20T20:08:56.138590Z"
    }
   },
   "outputs": [],
   "source": [
    "df5 = df4.copy()"
   ]
  },
  {
   "cell_type": "code",
   "execution_count": 24,
   "id": "14b56159",
   "metadata": {
    "ExecuteTime": {
     "end_time": "2021-09-20T20:10:17.697343Z",
     "start_time": "2021-09-20T20:10:17.672094Z"
    }
   },
   "outputs": [],
   "source": [
    "le = pp.LabelEncoder()\n",
    "\n",
    "df5['geography'] = le.fit_transform( df5[['geography']].values.ravel() )\n",
    "df5['gender'] = le.fit_transform( df5[['gender']].values.ravel() )"
   ]
  },
  {
   "cell_type": "markdown",
   "id": "d54b4441",
   "metadata": {
    "ExecuteTime": {
     "end_time": "2021-09-19T21:20:25.629615Z",
     "start_time": "2021-09-19T21:20:25.625286Z"
    }
   },
   "source": [
    "# 6.0. Feature Selection"
   ]
  },
  {
   "cell_type": "code",
   "execution_count": 28,
   "id": "07115a42",
   "metadata": {
    "ExecuteTime": {
     "end_time": "2021-09-20T20:11:51.232900Z",
     "start_time": "2021-09-20T20:11:51.225803Z"
    }
   },
   "outputs": [],
   "source": [
    "df6 = df5.copy()"
   ]
  },
  {
   "cell_type": "markdown",
   "id": "20663d6f",
   "metadata": {
    "ExecuteTime": {
     "end_time": "2021-09-19T21:20:25.629615Z",
     "start_time": "2021-09-19T21:20:25.625286Z"
    }
   },
   "source": [
    "# 7.0. Model Traning"
   ]
  },
  {
   "cell_type": "code",
   "execution_count": 32,
   "id": "11fe1a01",
   "metadata": {
    "ExecuteTime": {
     "end_time": "2021-09-20T20:15:48.833772Z",
     "start_time": "2021-09-20T20:15:48.827838Z"
    }
   },
   "outputs": [],
   "source": [
    "X = df6.drop('exited', axis=1)\n",
    "y = df6['exited'].values"
   ]
  },
  {
   "cell_type": "code",
   "execution_count": 33,
   "id": "1a52c3a1",
   "metadata": {
    "ExecuteTime": {
     "end_time": "2021-09-20T20:15:49.355458Z",
     "start_time": "2021-09-20T20:15:49.341056Z"
    }
   },
   "outputs": [],
   "source": [
    "X_train, X_val, y_train, y_val = ms.train_test_split(X, y, \n",
    "                                                     test_size=0.2, \n",
    "                                                     train_size=0.8, \n",
    "                                                     random_state=42, \n",
    "                                                     shuffle=True, \n",
    "                                                     stratify=None)"
   ]
  },
  {
   "cell_type": "markdown",
   "id": "3095ad7b",
   "metadata": {
    "heading_collapsed": true
   },
   "source": [
    "## 7.1. DummyClassifier"
   ]
  },
  {
   "cell_type": "code",
   "execution_count": 80,
   "id": "869f4a3d",
   "metadata": {
    "ExecuteTime": {
     "end_time": "2021-09-20T20:40:20.286514Z",
     "start_time": "2021-09-20T20:40:20.269387Z"
    },
    "hidden": true
   },
   "outputs": [
    {
     "name": "stdout",
     "output_type": "stream",
     "text": [
      "              precision    recall  f1-score   support\n",
      "\n",
      "           0       0.80      1.00      0.89      1607\n",
      "           1       0.00      0.00      0.00       393\n",
      "\n",
      "    accuracy                           0.80      2000\n",
      "   macro avg       0.40      0.50      0.45      2000\n",
      "weighted avg       0.65      0.80      0.72      2000\n",
      "\n"
     ]
    }
   ],
   "source": [
    "# model definition\n",
    "model_baseline = dummy.DummyClassifier(strategy='prior', random_state=42, constant=None)\n",
    "\n",
    "# model fit\n",
    "model_baseline.fit( X_train, y_train )\n",
    "\n",
    "# model predict\n",
    "yhat_baseline = model_dummy.predict( X_val )\n",
    "\n",
    "# model performance\n",
    "print(metrics.classification_report( y_val, yhat_baseline,\n",
    "                                    labels=None, \n",
    "                                    target_names=None, \n",
    "                                    sample_weight=None, \n",
    "                                    digits=2, \n",
    "                                    output_dict=False, \n",
    "                                    zero_division=0))"
   ]
  },
  {
   "cell_type": "markdown",
   "id": "474ff360",
   "metadata": {
    "heading_collapsed": true
   },
   "source": [
    "## 7.2. KNeighborsClassifier"
   ]
  },
  {
   "cell_type": "code",
   "execution_count": 74,
   "id": "8a65e9de",
   "metadata": {
    "ExecuteTime": {
     "end_time": "2021-09-20T20:39:02.233609Z",
     "start_time": "2021-09-20T20:39:02.060364Z"
    },
    "hidden": true
   },
   "outputs": [
    {
     "name": "stdout",
     "output_type": "stream",
     "text": [
      "              precision    recall  f1-score   support\n",
      "\n",
      "           0       0.81      0.93      0.86      1607\n",
      "           1       0.24      0.09      0.14       393\n",
      "\n",
      "    accuracy                           0.76      2000\n",
      "   macro avg       0.52      0.51      0.50      2000\n",
      "weighted avg       0.70      0.76      0.72      2000\n",
      "\n"
     ]
    }
   ],
   "source": [
    "# # model definition\n",
    "model_knn = neighbors.KNeighborsClassifier(n_neighbors=5, \n",
    "                                           weights='uniform', \n",
    "                                           algorithm='auto', \n",
    "                                           leaf_size=30, \n",
    "                                           p=2, \n",
    "                                           metric='minkowski', \n",
    "                                           metric_params=None, \n",
    "                                           n_jobs=None)\n",
    "\n",
    "# model fit\n",
    "model_knn.fit( X_train, y_train )\n",
    "\n",
    "# model predict\n",
    "yhat_knn = model_knn.predict( X_val )\n",
    "\n",
    "# model performance\n",
    "print(metrics.classification_report( y_val, yhat_knn,\n",
    "                                    labels=None, \n",
    "                                    target_names=None, \n",
    "                                    sample_weight=None, \n",
    "                                    digits=2, \n",
    "                                    output_dict=False, \n",
    "                                    zero_division=0))"
   ]
  },
  {
   "cell_type": "markdown",
   "id": "e5a75be4",
   "metadata": {
    "heading_collapsed": true
   },
   "source": [
    "## 7.3 SVM"
   ]
  },
  {
   "cell_type": "code",
   "execution_count": 73,
   "id": "e90ec2d8",
   "metadata": {
    "ExecuteTime": {
     "end_time": "2021-09-20T20:38:39.815655Z",
     "start_time": "2021-09-20T20:38:38.039905Z"
    },
    "hidden": true
   },
   "outputs": [
    {
     "name": "stdout",
     "output_type": "stream",
     "text": [
      "              precision    recall  f1-score   support\n",
      "\n",
      "           0       0.80      1.00      0.89      1607\n",
      "           1       0.00      0.00      0.00       393\n",
      "\n",
      "    accuracy                           0.80      2000\n",
      "   macro avg       0.40      0.50      0.45      2000\n",
      "weighted avg       0.65      0.80      0.72      2000\n",
      "\n"
     ]
    }
   ],
   "source": [
    "# model definition\n",
    "model_svm = svm.SVC(C=1.0, \n",
    "                    kernel='rbf', \n",
    "                    degree=3, \n",
    "                    gamma='scale', \n",
    "                    coef0=0.0, \n",
    "                    shrinking=True, \n",
    "                    probability=False, \n",
    "                    tol=0.001, \n",
    "                    cache_size=200, \n",
    "                    class_weight=None, \n",
    "                    verbose=False, \n",
    "                    max_iter=-1, \n",
    "                    decision_function_shape='ovr', \n",
    "                    break_ties=False, \n",
    "                    random_state=42)\n",
    "# model fit\n",
    "model_svm.fit( X_train, y_train )\n",
    "\n",
    "# model predict\n",
    "yhat_svm = model_svm.predict( X_val )\n",
    "\n",
    "# model performance\n",
    "print(metrics.classification_report( y_val, yhat_svm,\n",
    "                                    labels=None, \n",
    "                                    target_names=None, \n",
    "                                    sample_weight=None, \n",
    "                                    digits=2, \n",
    "                                    output_dict=False, \n",
    "                                    zero_division=0))"
   ]
  },
  {
   "cell_type": "markdown",
   "id": "e0192f21",
   "metadata": {
    "heading_collapsed": true
   },
   "source": [
    "## 7.4. RandomForestClassifier"
   ]
  },
  {
   "cell_type": "code",
   "execution_count": 72,
   "id": "2dca6816",
   "metadata": {
    "ExecuteTime": {
     "end_time": "2021-09-20T20:38:22.402742Z",
     "start_time": "2021-09-20T20:38:21.413656Z"
    },
    "hidden": true
   },
   "outputs": [
    {
     "name": "stdout",
     "output_type": "stream",
     "text": [
      "              precision    recall  f1-score   support\n",
      "\n",
      "           0       0.88      0.96      0.92      1607\n",
      "           1       0.75      0.47      0.57       393\n",
      "\n",
      "    accuracy                           0.86      2000\n",
      "   macro avg       0.82      0.71      0.75      2000\n",
      "weighted avg       0.85      0.86      0.85      2000\n",
      "\n"
     ]
    }
   ],
   "source": [
    "# model definition\n",
    "model_rf = ensemble.RandomForestClassifier(n_estimators=100, \n",
    "                                           criterion='gini', \n",
    "                                           max_depth=None, \n",
    "                                           min_samples_split=2, \n",
    "                                           min_samples_leaf=1, \n",
    "                                           min_weight_fraction_leaf=0.0, \n",
    "                                           max_features='auto', \n",
    "                                           max_leaf_nodes=None, \n",
    "                                           min_impurity_decrease=0.0, \n",
    "                                           min_impurity_split=None, \n",
    "                                           bootstrap=True, \n",
    "                                           oob_score=False, \n",
    "                                           n_jobs=None, \n",
    "                                           random_state=42, \n",
    "                                           verbose=0, \n",
    "                                           warm_start=False, \n",
    "                                           class_weight=None, \n",
    "                                           ccp_alpha=0.0, \n",
    "                                           max_samples=None)\n",
    "# model fit\n",
    "model_rf.fit( X_train, y_train )\n",
    "\n",
    "# model predict\n",
    "yhat_rf = model_rf.predict( X_val )\n",
    "\n",
    "# model performance\n",
    "print(metrics.classification_report( y_val, yhat_rf,\n",
    "                                    labels=None, \n",
    "                                    target_names=None, \n",
    "                                    sample_weight=None, \n",
    "                                    digits=2, \n",
    "                                    output_dict=False, \n",
    "                                    zero_division=0))"
   ]
  },
  {
   "cell_type": "markdown",
   "id": "2feeec10",
   "metadata": {
    "heading_collapsed": true
   },
   "source": [
    "## 7.5. LogisticRegression"
   ]
  },
  {
   "cell_type": "code",
   "execution_count": 71,
   "id": "5da3b059",
   "metadata": {
    "ExecuteTime": {
     "end_time": "2021-09-20T20:38:05.473163Z",
     "start_time": "2021-09-20T20:38:05.270966Z"
    },
    "hidden": true
   },
   "outputs": [
    {
     "name": "stdout",
     "output_type": "stream",
     "text": [
      "              precision    recall  f1-score   support\n",
      "\n",
      "           0       0.81      0.98      0.89      1607\n",
      "           1       0.45      0.07      0.12       393\n",
      "\n",
      "    accuracy                           0.80      2000\n",
      "   macro avg       0.63      0.53      0.51      2000\n",
      "weighted avg       0.74      0.80      0.74      2000\n",
      "\n"
     ]
    }
   ],
   "source": [
    "# model definition\n",
    "model_lr = linear_model.LogisticRegression(penalty='l2', \n",
    "                                           dual=False, \n",
    "                                           tol=0.0001, \n",
    "                                           C=1.0, \n",
    "                                           fit_intercept=True, \n",
    "                                           intercept_scaling=1, \n",
    "                                           class_weight=None, \n",
    "                                           random_state=42, \n",
    "                                           solver='lbfgs', \n",
    "                                           max_iter=100, \n",
    "                                           multi_class='auto', \n",
    "                                           verbose=0, \n",
    "                                           warm_start=False, \n",
    "                                           n_jobs=None, \n",
    "                                           l1_ratio=None)\n",
    "# model fit\n",
    "model_lr.fit( X_train, y_train )\n",
    "\n",
    "# model predict\n",
    "yhat_lr = model_lr.predict( X_val )\n",
    "\n",
    "# model performance\n",
    "print(metrics.classification_report( y_val, yhat_lr,\n",
    "                                    labels=None, \n",
    "                                    target_names=None, \n",
    "                                    sample_weight=None, \n",
    "                                    digits=2, \n",
    "                                    output_dict=False, \n",
    "                                    zero_division=0))"
   ]
  },
  {
   "cell_type": "markdown",
   "id": "e3513b04",
   "metadata": {
    "ExecuteTime": {
     "end_time": "2021-09-19T21:20:25.629615Z",
     "start_time": "2021-09-19T21:20:25.625286Z"
    }
   },
   "source": [
    "# 8.0. Hyperparameter Fine-Tuning"
   ]
  },
  {
   "cell_type": "markdown",
   "id": "3f1ea344",
   "metadata": {
    "ExecuteTime": {
     "end_time": "2021-09-19T21:20:25.629615Z",
     "start_time": "2021-09-19T21:20:25.625286Z"
    }
   },
   "source": [
    "# 9.0. Model Perfomance"
   ]
  },
  {
   "cell_type": "markdown",
   "id": "3d2496fb",
   "metadata": {},
   "source": [
    "# 10.0. Deploy to Production"
   ]
  }
 ],
 "metadata": {
  "kernelspec": {
   "display_name": "Python 3 (ipykernel)",
   "language": "python",
   "name": "python3"
  },
  "language_info": {
   "codemirror_mode": {
    "name": "ipython",
    "version": 3
   },
   "file_extension": ".py",
   "mimetype": "text/x-python",
   "name": "python",
   "nbconvert_exporter": "python",
   "pygments_lexer": "ipython3",
   "version": "3.8.0"
  }
 },
 "nbformat": 4,
 "nbformat_minor": 5
}
