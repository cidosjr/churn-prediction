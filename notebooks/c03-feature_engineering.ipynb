{
 "cells": [
  {
   "cell_type": "markdown",
   "id": "2e625e68",
   "metadata": {
    "heading_collapsed": true
   },
   "source": [
    "# 0.0. Imports "
   ]
  },
  {
   "cell_type": "code",
   "execution_count": 74,
   "id": "e4962aab",
   "metadata": {
    "ExecuteTime": {
     "end_time": "2021-09-23T18:59:29.184022Z",
     "start_time": "2021-09-23T18:59:29.171524Z"
    },
    "hidden": true
   },
   "outputs": [],
   "source": [
    "import pandas as pd\n",
    "import numpy as np\n",
    "import seaborn as sns\n",
    "import matplotlib.pyplot as plt\n",
    "\n",
    "from IPython.display import HTML\n",
    "from IPython.display import Image\n",
    "from geopy.geocoders import Nominatim\n",
    "\n",
    "from sklearn import preprocessing as pp\n",
    "from sklearn import model_selection as ms\n",
    "from sklearn import dummy\n",
    "from sklearn import metrics\n",
    "from sklearn import neighbors\n",
    "from sklearn import svm\n",
    "from sklearn import ensemble\n",
    "from sklearn import linear_model"
   ]
  },
  {
   "cell_type": "markdown",
   "id": "604d9b4b",
   "metadata": {
    "heading_collapsed": true,
    "hidden": true
   },
   "source": [
    "## 0.1. Helper Functions"
   ]
  },
  {
   "cell_type": "code",
   "execution_count": 75,
   "id": "9c6a4d3c",
   "metadata": {
    "ExecuteTime": {
     "end_time": "2021-09-23T18:59:29.222394Z",
     "start_time": "2021-09-23T18:59:29.186634Z"
    },
    "hidden": true
   },
   "outputs": [
    {
     "name": "stdout",
     "output_type": "stream",
     "text": [
      "Populating the interactive namespace from numpy and matplotlib\n"
     ]
    },
    {
     "data": {
      "text/html": [
       "<style>.container { width:100% !important; }</style>"
      ],
      "text/plain": [
       "<IPython.core.display.HTML object>"
      ]
     },
     "metadata": {},
     "output_type": "display_data"
    }
   ],
   "source": [
    "def jupyter_settings():\n",
    "    %matplotlib inline\n",
    "    %pylab inline\n",
    "    \n",
    "    plt.style.use( 'ggplot')\n",
    "    plt.rcParams['figure.figsize'] = [24, 9]\n",
    "    plt.rcParams['font.size'] = 24\n",
    "    \n",
    "    display( HTML( '<style>.container { width:100% !important; }</style>') )\n",
    "    pd.options.display.max_columns = None\n",
    "    pd.options.display.max_rows = None\n",
    "    pd.set_option( 'display.expand_frame_repr', False )\n",
    "    pd.set_option('display.float_format', lambda x: '%.4f' % x)\n",
    "    \n",
    "    sns.set()\n",
    "    \n",
    "jupyter_settings()"
   ]
  },
  {
   "cell_type": "markdown",
   "id": "78f7dfd3",
   "metadata": {
    "heading_collapsed": true,
    "hidden": true
   },
   "source": [
    "## 0.2. Load Data"
   ]
  },
  {
   "cell_type": "code",
   "execution_count": 76,
   "id": "8a1a8c9e",
   "metadata": {
    "ExecuteTime": {
     "end_time": "2021-09-23T18:59:29.258190Z",
     "start_time": "2021-09-23T18:59:29.229067Z"
    },
    "hidden": true
   },
   "outputs": [],
   "source": [
    "df_raw = pd.read_csv( '../data/raw/churn.csv' )"
   ]
  },
  {
   "cell_type": "markdown",
   "id": "28906caa",
   "metadata": {
    "heading_collapsed": true
   },
   "source": [
    "# 1.0. Data Description"
   ]
  },
  {
   "cell_type": "code",
   "execution_count": 77,
   "id": "cc447966",
   "metadata": {
    "ExecuteTime": {
     "end_time": "2021-09-23T18:59:29.268182Z",
     "start_time": "2021-09-23T18:59:29.262099Z"
    },
    "hidden": true
   },
   "outputs": [],
   "source": [
    "df1 = df_raw.copy()"
   ]
  },
  {
   "cell_type": "markdown",
   "id": "131d2137",
   "metadata": {
    "heading_collapsed": true,
    "hidden": true
   },
   "source": [
    "## 1.1. Rename Columns"
   ]
  },
  {
   "cell_type": "code",
   "execution_count": 78,
   "id": "381d390a",
   "metadata": {
    "ExecuteTime": {
     "end_time": "2021-09-23T18:59:29.280010Z",
     "start_time": "2021-09-23T18:59:29.272661Z"
    },
    "hidden": true
   },
   "outputs": [],
   "source": [
    "df1.columns = ['row_number', 'customer_id', 'surname', 'credit_score', 'geography', 'gender', 'age', 'tenure', 'balance', 'num_of_products', 'has_cr_card','is_active_member', 'estimated_salary', 'exited']"
   ]
  },
  {
   "cell_type": "markdown",
   "id": "b86f2d1f",
   "metadata": {
    "heading_collapsed": true,
    "hidden": true
   },
   "source": [
    "## 1.2. Data Dimensions"
   ]
  },
  {
   "cell_type": "code",
   "execution_count": 79,
   "id": "209a0f67",
   "metadata": {
    "ExecuteTime": {
     "end_time": "2021-09-23T18:59:29.296551Z",
     "start_time": "2021-09-23T18:59:29.283824Z"
    },
    "hidden": true
   },
   "outputs": [
    {
     "data": {
      "text/plain": [
       "(10000, 14)"
      ]
     },
     "execution_count": 79,
     "metadata": {},
     "output_type": "execute_result"
    }
   ],
   "source": [
    "df1.shape"
   ]
  },
  {
   "cell_type": "markdown",
   "id": "5dd3a1f4",
   "metadata": {
    "heading_collapsed": true,
    "hidden": true
   },
   "source": [
    "## 1.3. Check NA"
   ]
  },
  {
   "cell_type": "code",
   "execution_count": 80,
   "id": "6b5460ef",
   "metadata": {
    "ExecuteTime": {
     "end_time": "2021-09-23T18:59:29.317294Z",
     "start_time": "2021-09-23T18:59:29.300939Z"
    },
    "hidden": true
   },
   "outputs": [
    {
     "data": {
      "text/plain": [
       "row_number          0\n",
       "customer_id         0\n",
       "surname             0\n",
       "credit_score        0\n",
       "geography           0\n",
       "gender              0\n",
       "age                 0\n",
       "tenure              0\n",
       "balance             0\n",
       "num_of_products     0\n",
       "has_cr_card         0\n",
       "is_active_member    0\n",
       "estimated_salary    0\n",
       "exited              0\n",
       "dtype: int64"
      ]
     },
     "execution_count": 80,
     "metadata": {},
     "output_type": "execute_result"
    }
   ],
   "source": [
    "df1.isna().sum()"
   ]
  },
  {
   "cell_type": "markdown",
   "id": "d404d4b7",
   "metadata": {
    "heading_collapsed": true,
    "hidden": true
   },
   "source": [
    "## 1.4. Data Dtypes"
   ]
  },
  {
   "cell_type": "code",
   "execution_count": 81,
   "id": "b6c4bcb6",
   "metadata": {
    "ExecuteTime": {
     "end_time": "2021-09-23T18:59:29.330662Z",
     "start_time": "2021-09-23T18:59:29.319790Z"
    },
    "hidden": true
   },
   "outputs": [
    {
     "data": {
      "text/plain": [
       "row_number            int64\n",
       "customer_id           int64\n",
       "surname              object\n",
       "credit_score          int64\n",
       "geography            object\n",
       "gender               object\n",
       "age                   int64\n",
       "tenure                int64\n",
       "balance             float64\n",
       "num_of_products       int64\n",
       "has_cr_card           int64\n",
       "is_active_member      int64\n",
       "estimated_salary    float64\n",
       "exited                int64\n",
       "dtype: object"
      ]
     },
     "execution_count": 81,
     "metadata": {},
     "output_type": "execute_result"
    }
   ],
   "source": [
    "df1.dtypes"
   ]
  },
  {
   "cell_type": "markdown",
   "id": "cd9a76d1",
   "metadata": {
    "heading_collapsed": true,
    "hidden": true
   },
   "source": [
    "## 1.5. Descriptive Statistics "
   ]
  },
  {
   "cell_type": "markdown",
   "id": "a57f63fc",
   "metadata": {
    "hidden": true
   },
   "source": [
    " ## **Features**\n",
    "\n",
    "* **NowNumber:** O número da coluna\n",
    "* **CustomerID:** Identificador único do cliente\n",
    "* **Surname:** Sobrenome do cliente.\n",
    "* **CreditScore:** A pontuação de Crédito do cliente para o mercado de consumo.\n",
    "* **Geography:** O país onde o cliente reside.\n",
    "* **Gender:** O gênero do cliente.\n",
    "* **Age:** A idade do cliente.\n",
    "* **Tenure:** Número de anos que o cliente permaneceu ativo.\n",
    "* **Balance:** Valor monetário que o cliente tem em sua conta bancária.\n",
    "* **NumOfProducts:** O número de produtos comprado pelo cliente no banco.\n",
    "* **HasCrCard:** Indica se o cliente possui ou não cartão de crédito.\n",
    "* **IsActiveMember:** Indica se o cliente fez pelo menos uma movimentação na conta bancário dentro de 12 meses.\n",
    "* **EstimateSalary:** Estimativa do salário mensal do cliente.\n",
    "* **Exited:** Indica se o cliente está ou não em Churn."
   ]
  },
  {
   "cell_type": "code",
   "execution_count": 82,
   "id": "708ae1e6",
   "metadata": {
    "ExecuteTime": {
     "end_time": "2021-09-23T18:59:29.347250Z",
     "start_time": "2021-09-23T18:59:29.333909Z"
    },
    "hidden": true
   },
   "outputs": [],
   "source": [
    "num_attr = df1.select_dtypes( include=['int64', 'float64'] )\n",
    "cat_attr = df1.select_dtypes( include=['object'] )"
   ]
  },
  {
   "cell_type": "markdown",
   "id": "bad81a63",
   "metadata": {
    "heading_collapsed": true,
    "hidden": true
   },
   "source": [
    "### 1.5.1. Numerical Attributes"
   ]
  },
  {
   "cell_type": "code",
   "execution_count": 83,
   "id": "bdf1fe06",
   "metadata": {
    "ExecuteTime": {
     "end_time": "2021-09-23T18:59:29.446603Z",
     "start_time": "2021-09-23T18:59:29.349432Z"
    },
    "hidden": true
   },
   "outputs": [
    {
     "data": {
      "text/html": [
       "<div>\n",
       "<style scoped>\n",
       "    .dataframe tbody tr th:only-of-type {\n",
       "        vertical-align: middle;\n",
       "    }\n",
       "\n",
       "    .dataframe tbody tr th {\n",
       "        vertical-align: top;\n",
       "    }\n",
       "\n",
       "    .dataframe thead th {\n",
       "        text-align: right;\n",
       "    }\n",
       "</style>\n",
       "<table border=\"1\" class=\"dataframe\">\n",
       "  <thead>\n",
       "    <tr style=\"text-align: right;\">\n",
       "      <th></th>\n",
       "      <th>attribute</th>\n",
       "      <th>min</th>\n",
       "      <th>max</th>\n",
       "      <th>range</th>\n",
       "      <th>mean</th>\n",
       "      <th>median</th>\n",
       "      <th>std</th>\n",
       "      <th>skew</th>\n",
       "      <th>kurtosis</th>\n",
       "    </tr>\n",
       "  </thead>\n",
       "  <tbody>\n",
       "    <tr>\n",
       "      <th>0</th>\n",
       "      <td>row_number</td>\n",
       "      <td>1.0000</td>\n",
       "      <td>10000.0000</td>\n",
       "      <td>9999.0000</td>\n",
       "      <td>5000.5000</td>\n",
       "      <td>5000.5000</td>\n",
       "      <td>2886.8957</td>\n",
       "      <td>0.0000</td>\n",
       "      <td>-1.2000</td>\n",
       "    </tr>\n",
       "    <tr>\n",
       "      <th>1</th>\n",
       "      <td>customer_id</td>\n",
       "      <td>15565701.0000</td>\n",
       "      <td>15815690.0000</td>\n",
       "      <td>249989.0000</td>\n",
       "      <td>15690940.5694</td>\n",
       "      <td>15690738.0000</td>\n",
       "      <td>71936.1861</td>\n",
       "      <td>0.0011</td>\n",
       "      <td>-1.1961</td>\n",
       "    </tr>\n",
       "    <tr>\n",
       "      <th>2</th>\n",
       "      <td>credit_score</td>\n",
       "      <td>350.0000</td>\n",
       "      <td>850.0000</td>\n",
       "      <td>500.0000</td>\n",
       "      <td>650.5288</td>\n",
       "      <td>652.0000</td>\n",
       "      <td>96.6533</td>\n",
       "      <td>-0.0716</td>\n",
       "      <td>-0.4257</td>\n",
       "    </tr>\n",
       "    <tr>\n",
       "      <th>3</th>\n",
       "      <td>age</td>\n",
       "      <td>18.0000</td>\n",
       "      <td>92.0000</td>\n",
       "      <td>74.0000</td>\n",
       "      <td>38.9218</td>\n",
       "      <td>37.0000</td>\n",
       "      <td>10.4878</td>\n",
       "      <td>1.0113</td>\n",
       "      <td>1.3953</td>\n",
       "    </tr>\n",
       "    <tr>\n",
       "      <th>4</th>\n",
       "      <td>tenure</td>\n",
       "      <td>0.0000</td>\n",
       "      <td>10.0000</td>\n",
       "      <td>10.0000</td>\n",
       "      <td>5.0128</td>\n",
       "      <td>5.0000</td>\n",
       "      <td>2.8922</td>\n",
       "      <td>0.0110</td>\n",
       "      <td>-1.1652</td>\n",
       "    </tr>\n",
       "    <tr>\n",
       "      <th>5</th>\n",
       "      <td>balance</td>\n",
       "      <td>0.0000</td>\n",
       "      <td>250898.0900</td>\n",
       "      <td>250898.0900</td>\n",
       "      <td>76485.8893</td>\n",
       "      <td>97198.5400</td>\n",
       "      <td>62397.4052</td>\n",
       "      <td>-0.1411</td>\n",
       "      <td>-1.4894</td>\n",
       "    </tr>\n",
       "    <tr>\n",
       "      <th>6</th>\n",
       "      <td>num_of_products</td>\n",
       "      <td>1.0000</td>\n",
       "      <td>4.0000</td>\n",
       "      <td>3.0000</td>\n",
       "      <td>1.5302</td>\n",
       "      <td>1.0000</td>\n",
       "      <td>0.5817</td>\n",
       "      <td>0.7456</td>\n",
       "      <td>0.5830</td>\n",
       "    </tr>\n",
       "    <tr>\n",
       "      <th>7</th>\n",
       "      <td>has_cr_card</td>\n",
       "      <td>0.0000</td>\n",
       "      <td>1.0000</td>\n",
       "      <td>1.0000</td>\n",
       "      <td>0.7055</td>\n",
       "      <td>1.0000</td>\n",
       "      <td>0.4558</td>\n",
       "      <td>-0.9018</td>\n",
       "      <td>-1.1870</td>\n",
       "    </tr>\n",
       "    <tr>\n",
       "      <th>8</th>\n",
       "      <td>is_active_member</td>\n",
       "      <td>0.0000</td>\n",
       "      <td>1.0000</td>\n",
       "      <td>1.0000</td>\n",
       "      <td>0.5151</td>\n",
       "      <td>1.0000</td>\n",
       "      <td>0.4998</td>\n",
       "      <td>-0.0604</td>\n",
       "      <td>-1.9967</td>\n",
       "    </tr>\n",
       "    <tr>\n",
       "      <th>9</th>\n",
       "      <td>estimated_salary</td>\n",
       "      <td>11.5800</td>\n",
       "      <td>199992.4800</td>\n",
       "      <td>199980.9000</td>\n",
       "      <td>100090.2399</td>\n",
       "      <td>100193.9150</td>\n",
       "      <td>57510.4928</td>\n",
       "      <td>0.0021</td>\n",
       "      <td>-1.1815</td>\n",
       "    </tr>\n",
       "    <tr>\n",
       "      <th>10</th>\n",
       "      <td>exited</td>\n",
       "      <td>0.0000</td>\n",
       "      <td>1.0000</td>\n",
       "      <td>1.0000</td>\n",
       "      <td>0.2037</td>\n",
       "      <td>0.0000</td>\n",
       "      <td>0.4028</td>\n",
       "      <td>1.4716</td>\n",
       "      <td>0.1657</td>\n",
       "    </tr>\n",
       "  </tbody>\n",
       "</table>\n",
       "</div>"
      ],
      "text/plain": [
       "           attribute           min           max       range          mean        median        std    skew  kurtosis\n",
       "0         row_number        1.0000    10000.0000   9999.0000     5000.5000     5000.5000  2886.8957  0.0000   -1.2000\n",
       "1        customer_id 15565701.0000 15815690.0000 249989.0000 15690940.5694 15690738.0000 71936.1861  0.0011   -1.1961\n",
       "2       credit_score      350.0000      850.0000    500.0000      650.5288      652.0000    96.6533 -0.0716   -0.4257\n",
       "3                age       18.0000       92.0000     74.0000       38.9218       37.0000    10.4878  1.0113    1.3953\n",
       "4             tenure        0.0000       10.0000     10.0000        5.0128        5.0000     2.8922  0.0110   -1.1652\n",
       "5            balance        0.0000   250898.0900 250898.0900    76485.8893    97198.5400 62397.4052 -0.1411   -1.4894\n",
       "6    num_of_products        1.0000        4.0000      3.0000        1.5302        1.0000     0.5817  0.7456    0.5830\n",
       "7        has_cr_card        0.0000        1.0000      1.0000        0.7055        1.0000     0.4558 -0.9018   -1.1870\n",
       "8   is_active_member        0.0000        1.0000      1.0000        0.5151        1.0000     0.4998 -0.0604   -1.9967\n",
       "9   estimated_salary       11.5800   199992.4800 199980.9000   100090.2399   100193.9150 57510.4928  0.0021   -1.1815\n",
       "10            exited        0.0000        1.0000      1.0000        0.2037        0.0000     0.4028  1.4716    0.1657"
      ]
     },
     "execution_count": 83,
     "metadata": {},
     "output_type": "execute_result"
    }
   ],
   "source": [
    "# tendency central: mean, median\n",
    "ct1 = pd.DataFrame( num_attr.apply(np.mean) )\n",
    "ct2 = pd.DataFrame( num_attr.apply(np.median) )\n",
    "\n",
    "# dispersion: min,  max, range, std\n",
    "d1 = pd.DataFrame( num_attr.apply(np.min) )\n",
    "d2 = pd.DataFrame( num_attr.apply(np.max) )\n",
    "d3 = pd.DataFrame( num_attr.apply(lambda x: np.max(x) - np.min(x)) )\n",
    "d4 = pd.DataFrame( num_attr.apply(lambda x: x.std()) )\n",
    "\n",
    "# shape: skew, kurtosis\n",
    "s1 = pd.DataFrame( num_attr.apply(lambda x: x.skew()) )\n",
    "s2 = pd.DataFrame( num_attr.apply(lambda x: x.kurtosis()) )\n",
    "\n",
    "m1 = pd.concat([d1, d2, d3 ,ct1, ct2, d4, s1, s2], axis=1).reset_index()\n",
    "m1.columns = ['attribute', 'min', 'max', 'range', 'mean', 'median', 'std', 'skew', 'kurtosis']\n",
    "m1"
   ]
  },
  {
   "cell_type": "markdown",
   "id": "fd294534",
   "metadata": {
    "hidden": true
   },
   "source": [
    " ## num_of_products"
   ]
  },
  {
   "cell_type": "code",
   "execution_count": 84,
   "id": "cf858c54",
   "metadata": {
    "ExecuteTime": {
     "end_time": "2021-09-23T18:59:29.463450Z",
     "start_time": "2021-09-23T18:59:29.452776Z"
    },
    "hidden": true
   },
   "outputs": [
    {
     "data": {
      "text/plain": [
       "1   0.5084\n",
       "2   0.4590\n",
       "3   0.0266\n",
       "4   0.0060\n",
       "Name: num_of_products, dtype: float64"
      ]
     },
     "execution_count": 84,
     "metadata": {},
     "output_type": "execute_result"
    }
   ],
   "source": [
    "df1['num_of_products'].value_counts(normalize=True)"
   ]
  },
  {
   "cell_type": "markdown",
   "id": "2832fbfe",
   "metadata": {
    "hidden": true
   },
   "source": [
    " ## has_cr_card"
   ]
  },
  {
   "cell_type": "code",
   "execution_count": 85,
   "id": "055f9950",
   "metadata": {
    "ExecuteTime": {
     "end_time": "2021-09-23T18:59:29.480851Z",
     "start_time": "2021-09-23T18:59:29.466837Z"
    },
    "hidden": true
   },
   "outputs": [
    {
     "data": {
      "text/plain": [
       "1   0.7055\n",
       "0   0.2945\n",
       "Name: has_cr_card, dtype: float64"
      ]
     },
     "execution_count": 85,
     "metadata": {},
     "output_type": "execute_result"
    }
   ],
   "source": [
    "df1['has_cr_card'].value_counts(normalize=True)"
   ]
  },
  {
   "cell_type": "markdown",
   "id": "cb0ab874",
   "metadata": {
    "hidden": true
   },
   "source": [
    " ## is_active_member"
   ]
  },
  {
   "cell_type": "code",
   "execution_count": 86,
   "id": "9c1aca6b",
   "metadata": {
    "ExecuteTime": {
     "end_time": "2021-09-23T18:59:29.494051Z",
     "start_time": "2021-09-23T18:59:29.483217Z"
    },
    "hidden": true
   },
   "outputs": [
    {
     "data": {
      "text/plain": [
       "1   0.5151\n",
       "0   0.4849\n",
       "Name: is_active_member, dtype: float64"
      ]
     },
     "execution_count": 86,
     "metadata": {},
     "output_type": "execute_result"
    }
   ],
   "source": [
    "df1['is_active_member'].value_counts(normalize=True)"
   ]
  },
  {
   "cell_type": "markdown",
   "id": "4e12227d",
   "metadata": {
    "hidden": true
   },
   "source": [
    " ## exited"
   ]
  },
  {
   "cell_type": "code",
   "execution_count": 87,
   "id": "8d127f59",
   "metadata": {
    "ExecuteTime": {
     "end_time": "2021-09-23T18:59:29.514857Z",
     "start_time": "2021-09-23T18:59:29.498075Z"
    },
    "hidden": true
   },
   "outputs": [
    {
     "data": {
      "text/plain": [
       "0   0.7963\n",
       "1   0.2037\n",
       "Name: exited, dtype: float64"
      ]
     },
     "execution_count": 87,
     "metadata": {},
     "output_type": "execute_result"
    }
   ],
   "source": [
    "df1['exited'].value_counts(normalize=True)"
   ]
  },
  {
   "cell_type": "markdown",
   "id": "e4167322",
   "metadata": {
    "heading_collapsed": true,
    "hidden": true
   },
   "source": [
    "### 1.5.2. Categorical Attributes"
   ]
  },
  {
   "cell_type": "code",
   "execution_count": 88,
   "id": "7431593b",
   "metadata": {
    "ExecuteTime": {
     "end_time": "2021-09-23T18:59:29.566226Z",
     "start_time": "2021-09-23T18:59:29.519204Z"
    },
    "hidden": true
   },
   "outputs": [
    {
     "data": {
      "text/html": [
       "<div>\n",
       "<style scoped>\n",
       "    .dataframe tbody tr th:only-of-type {\n",
       "        vertical-align: middle;\n",
       "    }\n",
       "\n",
       "    .dataframe tbody tr th {\n",
       "        vertical-align: top;\n",
       "    }\n",
       "\n",
       "    .dataframe thead th {\n",
       "        text-align: right;\n",
       "    }\n",
       "</style>\n",
       "<table border=\"1\" class=\"dataframe\">\n",
       "  <thead>\n",
       "    <tr style=\"text-align: right;\">\n",
       "      <th></th>\n",
       "      <th>count</th>\n",
       "      <th>unique</th>\n",
       "      <th>top</th>\n",
       "      <th>freq</th>\n",
       "    </tr>\n",
       "  </thead>\n",
       "  <tbody>\n",
       "    <tr>\n",
       "      <th>surname</th>\n",
       "      <td>10000</td>\n",
       "      <td>2932</td>\n",
       "      <td>Smith</td>\n",
       "      <td>32</td>\n",
       "    </tr>\n",
       "    <tr>\n",
       "      <th>geography</th>\n",
       "      <td>10000</td>\n",
       "      <td>3</td>\n",
       "      <td>France</td>\n",
       "      <td>5014</td>\n",
       "    </tr>\n",
       "    <tr>\n",
       "      <th>gender</th>\n",
       "      <td>10000</td>\n",
       "      <td>2</td>\n",
       "      <td>Male</td>\n",
       "      <td>5457</td>\n",
       "    </tr>\n",
       "  </tbody>\n",
       "</table>\n",
       "</div>"
      ],
      "text/plain": [
       "           count unique     top  freq\n",
       "surname    10000   2932   Smith    32\n",
       "geography  10000      3  France  5014\n",
       "gender     10000      2    Male  5457"
      ]
     },
     "execution_count": 88,
     "metadata": {},
     "output_type": "execute_result"
    }
   ],
   "source": [
    "cat_attr.describe().T"
   ]
  },
  {
   "cell_type": "markdown",
   "id": "a2775ebc",
   "metadata": {
    "hidden": true
   },
   "source": [
    " ## geography"
   ]
  },
  {
   "cell_type": "code",
   "execution_count": 89,
   "id": "2a153353",
   "metadata": {
    "ExecuteTime": {
     "end_time": "2021-09-23T18:59:29.601757Z",
     "start_time": "2021-09-23T18:59:29.572680Z"
    },
    "hidden": true
   },
   "outputs": [
    {
     "data": {
      "text/plain": [
       "France    0.5014\n",
       "Germany   0.2509\n",
       "Spain     0.2477\n",
       "Name: geography, dtype: float64"
      ]
     },
     "execution_count": 89,
     "metadata": {},
     "output_type": "execute_result"
    }
   ],
   "source": [
    "df1['geography'].value_counts(normalize=True)"
   ]
  },
  {
   "cell_type": "markdown",
   "id": "c8ebd6cc",
   "metadata": {
    "hidden": true
   },
   "source": [
    " ## gender"
   ]
  },
  {
   "cell_type": "code",
   "execution_count": 90,
   "id": "e33cb430",
   "metadata": {
    "ExecuteTime": {
     "end_time": "2021-09-23T18:59:29.619547Z",
     "start_time": "2021-09-23T18:59:29.604231Z"
    },
    "hidden": true
   },
   "outputs": [
    {
     "data": {
      "text/plain": [
       "Male     0.5457\n",
       "Female   0.4543\n",
       "Name: gender, dtype: float64"
      ]
     },
     "execution_count": 90,
     "metadata": {},
     "output_type": "execute_result"
    }
   ],
   "source": [
    "df1['gender'].value_counts(normalize=True)"
   ]
  },
  {
   "cell_type": "markdown",
   "id": "60f742bb",
   "metadata": {},
   "source": [
    "# 2.0. Feature Engineering"
   ]
  },
  {
   "cell_type": "code",
   "execution_count": 91,
   "id": "498b4fc0",
   "metadata": {
    "ExecuteTime": {
     "end_time": "2021-09-23T18:59:29.636160Z",
     "start_time": "2021-09-23T18:59:29.623260Z"
    }
   },
   "outputs": [],
   "source": [
    "df2 = df1.copy()"
   ]
  },
  {
   "cell_type": "markdown",
   "id": "7851f9ca",
   "metadata": {},
   "source": [
    "## 2.1. Mapa Mental de hipóteses"
   ]
  },
  {
   "cell_type": "code",
   "execution_count": 92,
   "id": "9db3ff71",
   "metadata": {
    "ExecuteTime": {
     "end_time": "2021-09-23T18:59:29.651566Z",
     "start_time": "2021-09-23T18:59:29.639927Z"
    }
   },
   "outputs": [
    {
     "data": {
      "image/png": "[encoded data removed]",
      "text/plain": [
       "<IPython.core.display.Image object>"
      ]
     },
     "execution_count": 92,
     "metadata": {},
     "output_type": "execute_result"
    }
   ],
   "source": [
    "Image('../images/mindmap-churn.png')"
   ]
  },
  {
   "cell_type": "markdown",
   "id": "df516309",
   "metadata": {},
   "source": [
    "## 2.2. Criação de Hipóteses"
   ]
  },
  {
   "cell_type": "markdown",
   "id": "8a1b3d8a",
   "metadata": {},
   "source": [
    " ## **Cliente**\n",
    "\n",
    "1. Clientes entre 40 a 60 anos, têm menos chance de abandonar o serviço comparado ao resto da baixo.\n",
    "2. Cliente com score card abaixo de 400 tem mais chances de abandonar o serviço.\n",
    "3. Clientes do sexo feminino tem 60% de manter o serviço.\n",
    "4. Cliente acima de 5 anos usando o  serviço tem 80% de chance de manter o serviço.\n",
    "5. Clientes que têm salário acima da média, têm mais chances de abandonar o serviço.\n",
    "6. Clientes que fazem 10 movimentações ao mês, têm mais chances de manter o serviço.\n",
    "7. Clientes que não têm dinheiro na poupança têm mais chances de abandonar o serviço.\n",
    "\n",
    "## **Localização**\n",
    "1. Clientes residentes na residentes na Espanha tem mais chances de manter o serviço em comparação comparado aos outros países\n",
    "2. Clientes que acessam mais o portal têm mais chances de abandonar o serviço.\n",
    "\n",
    "\n",
    "## **Marketing**\n",
    "1. Clientes provenientes de de afiliados, têm mais chances de manter o serviço.\n",
    "2. Anúncios de marketing são responsáveis pela maior quantidade de novos clientes, e não são mais fiéis à empresa do que por outros meios.\n",
    "\n",
    "## **Produtos**\n",
    "1. Clientes que possuem cartão de crédito, tem mais chances de manter o serviço dos que não tem.\n"
   ]
  },
  {
   "cell_type": "markdown",
   "id": "eabda060",
   "metadata": {},
   "source": [
    "## 2.3. Priorização de Hipóteses"
   ]
  },
  {
   "cell_type": "markdown",
   "id": "6a872eaf",
   "metadata": {},
   "source": [
    "* **h1.** Clientes entre 40 a 60 anos, têm menos chance de abandonar o serviço comparado ao resto da baixo.\n",
    "* **h2.** Cliente com score card abaixo de 400 tem mais chances de abandonar o serviço.\n",
    "* **h3.** Clientes do sexo feminino tem 60% de manter o serviço.\n",
    "* **h4.** Cliente acima de 5 anos usando o  serviço tem 80% de chance de manter o serviço.\n",
    "* **h5.** Clientes que têm salário acima da média, têm mais chances de abandonar o serviço.\n",
    "* **h6.** Clientes que não têm dinheiro na poupança têm mais chances de abandonar o serviço.\n",
    "* **h7.** Clientes residentes na residentes na Espanha tem mais chances de manter o serviço em comparação comparado aos outros países\n",
    "* **h8.** Clientes que possuem cartão de crédito, tem mais chances de manter o serviço dos que não tem.\n"
   ]
  },
  {
   "cell_type": "markdown",
   "id": "4b172818",
   "metadata": {},
   "source": [
    "## 2.4. Create Feature"
   ]
  },
  {
   "cell_type": "code",
   "execution_count": 93,
   "id": "77fc7f0a",
   "metadata": {
    "ExecuteTime": {
     "end_time": "2021-09-23T18:59:32.895992Z",
     "start_time": "2021-09-23T18:59:29.660003Z"
    }
   },
   "outputs": [],
   "source": [
    "df2.loc[ df2['geography'] == 'France', 'country_lat'] = float(geolocator.geocode('France').raw['lat'])\n",
    "df2.loc[ df2['geography'] == 'Germany', 'country_lat'] = float(geolocator.geocode('Germany').raw['lat'])\n",
    "df2.loc[ df2['geography'] == 'Spain', 'country_lat'] = float(geolocator.geocode('Spain').raw['lat'])\n",
    "\n",
    "df2.loc[ df2['geography'] == 'France', 'country_lon'] = float(geolocator.geocode('France').raw['lon'])\n",
    "df2.loc[ df2['geography'] == 'Germany', 'country_lon'] = float(geolocator.geocode('Germany').raw['lon'])\n",
    "df2.loc[ df2['geography'] == 'Spain', 'country_lon'] = float(geolocator.geocode('Spain').raw['lon'])"
   ]
  },
  {
   "cell_type": "markdown",
   "id": "c0463d2c",
   "metadata": {
    "ExecuteTime": {
     "end_time": "2021-09-19T21:20:25.629615Z",
     "start_time": "2021-09-19T21:20:25.625286Z"
    }
   },
   "source": [
    "# 3.0. Data Filtering"
   ]
  },
  {
   "cell_type": "code",
   "execution_count": 94,
   "id": "df16a2cc",
   "metadata": {
    "ExecuteTime": {
     "end_time": "2021-09-23T18:59:32.904329Z",
     "start_time": "2021-09-23T18:59:32.897853Z"
    }
   },
   "outputs": [],
   "source": [
    "df3 = df2.copy()"
   ]
  },
  {
   "cell_type": "code",
   "execution_count": 95,
   "id": "c11d1832",
   "metadata": {
    "ExecuteTime": {
     "end_time": "2021-09-23T18:59:32.919910Z",
     "start_time": "2021-09-23T18:59:32.910881Z"
    }
   },
   "outputs": [],
   "source": [
    "drop_cols = ['row_number', 'customer_id', 'surname']\n",
    "df3 = df3.drop(drop_cols, axis=1)"
   ]
  },
  {
   "cell_type": "markdown",
   "id": "717d861b",
   "metadata": {
    "ExecuteTime": {
     "end_time": "2021-09-19T21:20:25.629615Z",
     "start_time": "2021-09-19T21:20:25.625286Z"
    }
   },
   "source": [
    "# 4.0. EDA"
   ]
  },
  {
   "cell_type": "code",
   "execution_count": 96,
   "id": "ef970a0b",
   "metadata": {
    "ExecuteTime": {
     "end_time": "2021-09-23T18:59:32.928917Z",
     "start_time": "2021-09-23T18:59:32.923761Z"
    }
   },
   "outputs": [],
   "source": [
    "df4 = df3.copy()"
   ]
  },
  {
   "cell_type": "markdown",
   "id": "ff13e1d4",
   "metadata": {
    "ExecuteTime": {
     "end_time": "2021-09-19T21:20:25.629615Z",
     "start_time": "2021-09-19T21:20:25.625286Z"
    },
    "heading_collapsed": true
   },
   "source": [
    "# 5.0. Data Preprocessing"
   ]
  },
  {
   "cell_type": "code",
   "execution_count": 97,
   "id": "1eb4645e",
   "metadata": {
    "ExecuteTime": {
     "end_time": "2021-09-23T18:59:32.938002Z",
     "start_time": "2021-09-23T18:59:32.931883Z"
    },
    "hidden": true
   },
   "outputs": [],
   "source": [
    "df5 = df4.copy()"
   ]
  },
  {
   "cell_type": "code",
   "execution_count": 98,
   "id": "14b56159",
   "metadata": {
    "ExecuteTime": {
     "end_time": "2021-09-23T18:59:32.969360Z",
     "start_time": "2021-09-23T18:59:32.944768Z"
    },
    "hidden": true
   },
   "outputs": [],
   "source": [
    "le = pp.LabelEncoder()\n",
    "\n",
    "df5['geography'] = le.fit_transform( df5[['geography']].values.ravel() )\n",
    "df5['gender'] = le.fit_transform( df5[['gender']].values.ravel() )"
   ]
  },
  {
   "cell_type": "markdown",
   "id": "d54b4441",
   "metadata": {
    "ExecuteTime": {
     "end_time": "2021-09-19T21:20:25.629615Z",
     "start_time": "2021-09-19T21:20:25.625286Z"
    },
    "heading_collapsed": true
   },
   "source": [
    "# 6.0. Feature Selection"
   ]
  },
  {
   "cell_type": "code",
   "execution_count": 99,
   "id": "07115a42",
   "metadata": {
    "ExecuteTime": {
     "end_time": "2021-09-23T18:59:32.982409Z",
     "start_time": "2021-09-23T18:59:32.972528Z"
    },
    "hidden": true
   },
   "outputs": [],
   "source": [
    "df6 = df5.copy()"
   ]
  },
  {
   "cell_type": "markdown",
   "id": "20663d6f",
   "metadata": {
    "ExecuteTime": {
     "end_time": "2021-09-19T21:20:25.629615Z",
     "start_time": "2021-09-19T21:20:25.625286Z"
    },
    "heading_collapsed": true
   },
   "source": [
    "# 7.0. Model Traning"
   ]
  },
  {
   "cell_type": "code",
   "execution_count": 100,
   "id": "11fe1a01",
   "metadata": {
    "ExecuteTime": {
     "end_time": "2021-09-23T18:59:32.996236Z",
     "start_time": "2021-09-23T18:59:32.986924Z"
    },
    "hidden": true
   },
   "outputs": [],
   "source": [
    "X = df6.drop('exited', axis=1)\n",
    "y = df6['exited'].values"
   ]
  },
  {
   "cell_type": "code",
   "execution_count": 101,
   "id": "1a52c3a1",
   "metadata": {
    "ExecuteTime": {
     "end_time": "2021-09-23T18:59:33.017668Z",
     "start_time": "2021-09-23T18:59:33.001716Z"
    },
    "hidden": true
   },
   "outputs": [],
   "source": [
    "X_train, X_val, y_train, y_val = ms.train_test_split(X, y, \n",
    "                                                     test_size=0.2, \n",
    "                                                     train_size=0.8, \n",
    "                                                     random_state=42, \n",
    "                                                     shuffle=True, \n",
    "                                                     stratify=None)"
   ]
  },
  {
   "cell_type": "markdown",
   "id": "3095ad7b",
   "metadata": {
    "heading_collapsed": true,
    "hidden": true
   },
   "source": [
    "## 7.1. DummyClassifier"
   ]
  },
  {
   "cell_type": "code",
   "execution_count": 102,
   "id": "869f4a3d",
   "metadata": {
    "ExecuteTime": {
     "end_time": "2021-09-23T18:59:33.042328Z",
     "start_time": "2021-09-23T18:59:33.022556Z"
    },
    "hidden": true
   },
   "outputs": [
    {
     "name": "stdout",
     "output_type": "stream",
     "text": [
      "              precision    recall  f1-score   support\n",
      "\n",
      "           0       0.80      1.00      0.89      1607\n",
      "           1       0.00      0.00      0.00       393\n",
      "\n",
      "    accuracy                           0.80      2000\n",
      "   macro avg       0.40      0.50      0.45      2000\n",
      "weighted avg       0.65      0.80      0.72      2000\n",
      "\n"
     ]
    }
   ],
   "source": [
    "# model definition\n",
    "model_baseline = dummy.DummyClassifier(strategy='prior', random_state=42, constant=None)\n",
    "\n",
    "# model fit\n",
    "model_baseline.fit( X_train, y_train )\n",
    "\n",
    "# model predict\n",
    "yhat_baseline = model_baseline.predict( X_val )\n",
    "\n",
    "# model performance\n",
    "print(metrics.classification_report( y_val, yhat_baseline,\n",
    "                                    labels=None, \n",
    "                                    target_names=None, \n",
    "                                    sample_weight=None, \n",
    "                                    digits=2, \n",
    "                                    output_dict=False, \n",
    "                                    zero_division=0))"
   ]
  },
  {
   "cell_type": "markdown",
   "id": "474ff360",
   "metadata": {
    "heading_collapsed": true,
    "hidden": true
   },
   "source": [
    "## 7.2. KNeighborsClassifier"
   ]
  },
  {
   "cell_type": "code",
   "execution_count": 103,
   "id": "8a65e9de",
   "metadata": {
    "ExecuteTime": {
     "end_time": "2021-09-23T18:59:33.257514Z",
     "start_time": "2021-09-23T18:59:33.046624Z"
    },
    "hidden": true
   },
   "outputs": [
    {
     "name": "stdout",
     "output_type": "stream",
     "text": [
      "              precision    recall  f1-score   support\n",
      "\n",
      "           0       0.81      0.93      0.86      1607\n",
      "           1       0.24      0.09      0.14       393\n",
      "\n",
      "    accuracy                           0.76      2000\n",
      "   macro avg       0.52      0.51      0.50      2000\n",
      "weighted avg       0.70      0.76      0.72      2000\n",
      "\n"
     ]
    }
   ],
   "source": [
    "# # model definition\n",
    "model_knn = neighbors.KNeighborsClassifier(n_neighbors=5, \n",
    "                                           weights='uniform', \n",
    "                                           algorithm='auto', \n",
    "                                           leaf_size=30, \n",
    "                                           p=2, \n",
    "                                           metric='minkowski', \n",
    "                                           metric_params=None, \n",
    "                                           n_jobs=None)\n",
    "\n",
    "# model fit\n",
    "model_knn.fit( X_train, y_train )\n",
    "\n",
    "# model predict\n",
    "yhat_knn = model_knn.predict( X_val )\n",
    "\n",
    "# model performance\n",
    "print(metrics.classification_report( y_val, yhat_knn,\n",
    "                                    labels=None, \n",
    "                                    target_names=None, \n",
    "                                    sample_weight=None, \n",
    "                                    digits=2, \n",
    "                                    output_dict=False, \n",
    "                                    zero_division=0))"
   ]
  },
  {
   "cell_type": "markdown",
   "id": "e5a75be4",
   "metadata": {
    "heading_collapsed": true,
    "hidden": true
   },
   "source": [
    "## 7.3 SVM"
   ]
  },
  {
   "cell_type": "code",
   "execution_count": 104,
   "id": "e90ec2d8",
   "metadata": {
    "ExecuteTime": {
     "end_time": "2021-09-23T18:59:35.563041Z",
     "start_time": "2021-09-23T18:59:33.261843Z"
    },
    "hidden": true
   },
   "outputs": [
    {
     "name": "stdout",
     "output_type": "stream",
     "text": [
      "              precision    recall  f1-score   support\n",
      "\n",
      "           0       0.80      1.00      0.89      1607\n",
      "           1       0.00      0.00      0.00       393\n",
      "\n",
      "    accuracy                           0.80      2000\n",
      "   macro avg       0.40      0.50      0.45      2000\n",
      "weighted avg       0.65      0.80      0.72      2000\n",
      "\n"
     ]
    }
   ],
   "source": [
    "# model definition\n",
    "model_svm = svm.SVC(C=1.0, \n",
    "                    kernel='rbf', \n",
    "                    degree=3, \n",
    "                    gamma='scale', \n",
    "                    coef0=0.0, \n",
    "                    shrinking=True, \n",
    "                    probability=False, \n",
    "                    tol=0.001, \n",
    "                    cache_size=200, \n",
    "                    class_weight=None, \n",
    "                    verbose=False, \n",
    "                    max_iter=-1, \n",
    "                    decision_function_shape='ovr', \n",
    "                    break_ties=False, \n",
    "                    random_state=42)\n",
    "# model fit\n",
    "model_svm.fit( X_train, y_train )\n",
    "\n",
    "# model predict\n",
    "yhat_svm = model_svm.predict( X_val )\n",
    "\n",
    "# model performance\n",
    "print(metrics.classification_report( y_val, yhat_svm,\n",
    "                                    labels=None, \n",
    "                                    target_names=None, \n",
    "                                    sample_weight=None, \n",
    "                                    digits=2, \n",
    "                                    output_dict=False, \n",
    "                                    zero_division=0))"
   ]
  },
  {
   "cell_type": "markdown",
   "id": "e0192f21",
   "metadata": {
    "heading_collapsed": true,
    "hidden": true
   },
   "source": [
    "## 7.4. RandomForestClassifier"
   ]
  },
  {
   "cell_type": "code",
   "execution_count": 105,
   "id": "2dca6816",
   "metadata": {
    "ExecuteTime": {
     "end_time": "2021-09-23T18:59:36.739342Z",
     "start_time": "2021-09-23T18:59:35.565917Z"
    },
    "hidden": true
   },
   "outputs": [
    {
     "name": "stdout",
     "output_type": "stream",
     "text": [
      "              precision    recall  f1-score   support\n",
      "\n",
      "           0       0.88      0.96      0.92      1607\n",
      "           1       0.76      0.47      0.58       393\n",
      "\n",
      "    accuracy                           0.87      2000\n",
      "   macro avg       0.82      0.72      0.75      2000\n",
      "weighted avg       0.86      0.87      0.85      2000\n",
      "\n"
     ]
    }
   ],
   "source": [
    "# model definition\n",
    "model_rf = ensemble.RandomForestClassifier(n_estimators=100, \n",
    "                                           criterion='gini', \n",
    "                                           max_depth=None, \n",
    "                                           min_samples_split=2, \n",
    "                                           min_samples_leaf=1, \n",
    "                                           min_weight_fraction_leaf=0.0, \n",
    "                                           max_features='auto', \n",
    "                                           max_leaf_nodes=None, \n",
    "                                           min_impurity_decrease=0.0, \n",
    "                                           min_impurity_split=None, \n",
    "                                           bootstrap=True, \n",
    "                                           oob_score=False, \n",
    "                                           n_jobs=None, \n",
    "                                           random_state=42, \n",
    "                                           verbose=0, \n",
    "                                           warm_start=False, \n",
    "                                           class_weight=None, \n",
    "                                           ccp_alpha=0.0, \n",
    "                                           max_samples=None)\n",
    "# model fit\n",
    "model_rf.fit( X_train, y_train )\n",
    "\n",
    "# model predict\n",
    "yhat_rf = model_rf.predict( X_val )\n",
    "\n",
    "# model performance\n",
    "print(metrics.classification_report( y_val, yhat_rf,\n",
    "                                    labels=None, \n",
    "                                    target_names=None, \n",
    "                                    sample_weight=None, \n",
    "                                    digits=2, \n",
    "                                    output_dict=False, \n",
    "                                    zero_division=0))"
   ]
  },
  {
   "cell_type": "markdown",
   "id": "2feeec10",
   "metadata": {
    "heading_collapsed": true,
    "hidden": true
   },
   "source": [
    "## 7.5. LogisticRegression"
   ]
  },
  {
   "cell_type": "code",
   "execution_count": 106,
   "id": "5da3b059",
   "metadata": {
    "ExecuteTime": {
     "end_time": "2021-09-23T18:59:37.005349Z",
     "start_time": "2021-09-23T18:59:36.746360Z"
    },
    "hidden": true
   },
   "outputs": [
    {
     "name": "stdout",
     "output_type": "stream",
     "text": [
      "              precision    recall  f1-score   support\n",
      "\n",
      "           0       0.81      0.98      0.89      1607\n",
      "           1       0.42      0.07      0.13       393\n",
      "\n",
      "    accuracy                           0.80      2000\n",
      "   macro avg       0.62      0.52      0.51      2000\n",
      "weighted avg       0.73      0.80      0.74      2000\n",
      "\n"
     ]
    }
   ],
   "source": [
    "# model definition\n",
    "model_lr = linear_model.LogisticRegression(penalty='l2', \n",
    "                                           dual=False, \n",
    "                                           tol=0.0001, \n",
    "                                           C=1.0, \n",
    "                                           fit_intercept=True, \n",
    "                                           intercept_scaling=1, \n",
    "                                           class_weight=None, \n",
    "                                           random_state=42, \n",
    "                                           solver='lbfgs', \n",
    "                                           max_iter=100, \n",
    "                                           multi_class='auto', \n",
    "                                           verbose=0, \n",
    "                                           warm_start=False, \n",
    "                                           n_jobs=None, \n",
    "                                           l1_ratio=None)\n",
    "# model fit\n",
    "model_lr.fit( X_train, y_train )\n",
    "\n",
    "# model predict\n",
    "yhat_lr = model_lr.predict( X_val )\n",
    "\n",
    "# model performance\n",
    "print(metrics.classification_report( y_val, yhat_lr,\n",
    "                                    labels=None, \n",
    "                                    target_names=None, \n",
    "                                    sample_weight=None, \n",
    "                                    digits=2, \n",
    "                                    output_dict=False, \n",
    "                                    zero_division=0))"
   ]
  },
  {
   "cell_type": "markdown",
   "id": "e3513b04",
   "metadata": {
    "ExecuteTime": {
     "end_time": "2021-09-19T21:20:25.629615Z",
     "start_time": "2021-09-19T21:20:25.625286Z"
    },
    "heading_collapsed": true
   },
   "source": [
    "# 8.0. Hyperparameter Fine-Tuning"
   ]
  },
  {
   "cell_type": "markdown",
   "id": "3f1ea344",
   "metadata": {
    "ExecuteTime": {
     "end_time": "2021-09-19T21:20:25.629615Z",
     "start_time": "2021-09-19T21:20:25.625286Z"
    },
    "heading_collapsed": true
   },
   "source": [
    "# 9.0. Model Perfomance"
   ]
  },
  {
   "cell_type": "markdown",
   "id": "3d2496fb",
   "metadata": {},
   "source": [
    "# 10.0. Deploy to Production"
   ]
  }
 ],
 "metadata": {
  "kernelspec": {
   "display_name": "Python 3 (ipykernel)",
   "language": "python",
   "name": "python3"
  },
  "language_info": {
   "codemirror_mode": {
    "name": "ipython",
    "version": 3
   },
   "file_extension": ".py",
   "mimetype": "text/x-python",
   "name": "python",
   "nbconvert_exporter": "python",
   "pygments_lexer": "ipython3",
   "version": "3.8.0"
  }
 },
 "nbformat": 4,
 "nbformat_minor": 5
}
